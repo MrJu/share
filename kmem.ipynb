{
 "cells": [
  {
   "cell_type": "code",
   "execution_count": 26,
   "id": "3b833e2a",
   "metadata": {},
   "outputs": [
    {
     "name": "stdout",
     "output_type": "stream",
     "text": [
      "              dd-148     [002] d..1.   226.036186: kmem_cache_alloc: call_site=xas_create+0x18c/0x4a4 ptr=(____ptrval____) bytes_req=576 bytes_alloc=584 gfp_flags=GFP_NOWAIT|__GFP_NOWARN|__GFP_ACCOUNT node=-1 accounted=true\n",
      "              dd-148     [000] d..1.   226.065660: kmem_cache_alloc: call_site=xas_create+0x18c/0x4a4 ptr=(____ptrval____) bytes_req=576 bytes_alloc=584 gfp_flags=GFP_NOWAIT|__GFP_NOWARN|__GFP_ACCOUNT node=-1 accounted=true\n",
      "              dd-148     [000] d..1.   226.068434: kmem_cache_alloc: call_site=xas_create+0x3bc/0x4a4 ptr=(____ptrval____) bytes_req=576 bytes_alloc=584 gfp_flags=GFP_NOWAIT|__GFP_NOWARN|__GFP_ACCOUNT node=-1 accounted=true\n",
      "              dd-148     [002] d..1.   226.167233: kmem_cache_alloc: call_site=xas_create+0x3bc/0x4a4 ptr=(____ptrval____) bytes_req=576 bytes_alloc=584 gfp_flags=GFP_NOWAIT|__GFP_NOWARN|__GFP_ACCOUNT node=-1 accounted=true\n",
      "\n",
      "\n"
     ]
    }
   ],
   "source": [
    "try:\n",
    "    file = open('trace', 'r')\n",
    "    content = file.read()\n",
    "    lines = content.split('\\n')\n",
    "    for line in lines:\n",
    "        if not line.startswith('#'):\n",
    "            print(line)\n",
    "    file.close()\n",
    "except FileNotFoundError:\n",
    "    print(\"file not found\")\n",
    "except Exception as e:\n",
    "    print(\"error:\", e)"
   ]
  },
  {
   "cell_type": "code",
   "execution_count": 28,
   "id": "500f8d49",
   "metadata": {},
   "outputs": [
    {
     "name": "stdout",
     "output_type": "stream",
     "text": [
      "              dd-148     [002] d..1.   226.036186: kmem_cache_alloc: call_site=xas_create+0x18c/0x4a4 ptr=(____ptrval____) bytes_req=576 bytes_alloc=584 gfp_flags=GFP_NOWAIT|__GFP_NOWARN|__GFP_ACCOUNT node=-1 accounted=true\n",
      "              dd-148     [000] d..1.   226.065660: kmem_cache_alloc: call_site=xas_create+0x18c/0x4a4 ptr=(____ptrval____) bytes_req=576 bytes_alloc=584 gfp_flags=GFP_NOWAIT|__GFP_NOWARN|__GFP_ACCOUNT node=-1 accounted=true\n",
      "              dd-148     [000] d..1.   226.068434: kmem_cache_alloc: call_site=xas_create+0x3bc/0x4a4 ptr=(____ptrval____) bytes_req=576 bytes_alloc=584 gfp_flags=GFP_NOWAIT|__GFP_NOWARN|__GFP_ACCOUNT node=-1 accounted=true\n",
      "              dd-148     [002] d..1.   226.167233: kmem_cache_alloc: call_site=xas_create+0x3bc/0x4a4 ptr=(____ptrval____) bytes_req=576 bytes_alloc=584 gfp_flags=GFP_NOWAIT|__GFP_NOWARN|__GFP_ACCOUNT node=-1 accounted=true\n",
      "\n",
      "\n"
     ]
    }
   ],
   "source": [
    "try:\n",
    "    file = open('trace', 'r')\n",
    "    lines = file.read().split('\\n')\n",
    "    for line in lines:\n",
    "        if not line.startswith('#'):\n",
    "            print(line)\n",
    "    file.close()\n",
    "except FileNotFoundError:\n",
    "    print(\"file not found\")\n",
    "except Exception as e:\n",
    "    print(\"error:\", e)"
   ]
  },
  {
   "cell_type": "code",
   "execution_count": 35,
   "id": "7cfe7f51",
   "metadata": {},
   "outputs": [
    {
     "name": "stdout",
     "output_type": "stream",
     "text": [
      "576\n",
      "576\n",
      "576\n",
      "576\n"
     ]
    }
   ],
   "source": [
    "import re\n",
    "\n",
    "try:\n",
    "    file = open('trace', 'r')\n",
    "    lines = file.read().split('\\n')\n",
    "    for line in lines:\n",
    "        if not line.startswith('#'):\n",
    "                match = re.search(r'bytes_req=(\\d+)', line)\n",
    "                if match:\n",
    "                    bytes_req = match.group(1)\n",
    "                    print(bytes_req)\n",
    "    file.close()\n",
    "except FileNotFoundError:\n",
    "    print(\"file not found\")\n",
    "except Exception as e:\n",
    "    print(\"error:\", e)"
   ]
  },
  {
   "cell_type": "code",
   "execution_count": 36,
   "id": "74f41853",
   "metadata": {},
   "outputs": [
    {
     "name": "stdout",
     "output_type": "stream",
     "text": [
      "576\n",
      "576\n",
      "576\n",
      "576\n"
     ]
    }
   ],
   "source": [
    "import re\n",
    "\n",
    "try:\n",
    "    file = open('trace', 'r')\n",
    "    lines = file.read().split('\\n')\n",
    "    for line in lines:\n",
    "        match = re.search(r'bytes_req=(\\d+)', line)\n",
    "        if match:\n",
    "            bytes_req = match.group(1)\n",
    "            print(bytes_req)\n",
    "    file.close()\n",
    "except FileNotFoundError:\n",
    "    print(\"file not found\")\n",
    "except Exception as e:\n",
    "    print(\"error:\", e)"
   ]
  },
  {
   "cell_type": "code",
   "execution_count": 38,
   "id": "3fb335c6",
   "metadata": {},
   "outputs": [
    {
     "name": "stdout",
     "output_type": "stream",
     "text": [
      "576\n",
      "576\n",
      "576\n",
      "576\n"
     ]
    }
   ],
   "source": [
    "import re\n",
    "\n",
    "try:\n",
    "    with open('trace', 'r') as file:\n",
    "        lines = file.readlines()\n",
    "        for line in lines:\n",
    "            if \"kmem_cache_alloc\" in line:\n",
    "                match = re.search(r'bytes_req=(\\d+)', line)\n",
    "                if match:\n",
    "                    bytes_req = match.group(1)\n",
    "                    print(bytes_req)\n",
    "except FileNotFoundError:\n",
    "    print(\"File not found\")\n",
    "except Exception as e:\n",
    "    print(\"Error:\", e)"
   ]
  },
  {
   "cell_type": "code",
   "execution_count": 41,
   "id": "e9db4a30",
   "metadata": {},
   "outputs": [
    {
     "name": "stdout",
     "output_type": "stream",
     "text": [
      "dd-148 576\n",
      "dd-148 576\n",
      "dd-148 576\n",
      "dd-148 576\n",
      "xx-148 576\n",
      "xx-148 576\n"
     ]
    }
   ],
   "source": [
    "import re\n",
    "\n",
    "try:\n",
    "    with open('trace', 'r') as file:\n",
    "        lines = file.readlines()\n",
    "        for line in lines:\n",
    "            if \"kmem_cache_alloc\" in line:\n",
    "                match = re.search(r'bytes_req=(\\d+)', line)\n",
    "                if match:\n",
    "                    bytes_req = match.group(1)\n",
    "                    words = line.split()\n",
    "                    print(words[0], bytes_req)\n",
    "except FileNotFoundError:\n",
    "    print(\"File not found\")\n",
    "except Exception as e:\n",
    "    print(\"Error:\", e)"
   ]
  },
  {
   "cell_type": "code",
   "execution_count": 44,
   "id": "c3d23d32",
   "metadata": {},
   "outputs": [
    {
     "name": "stdout",
     "output_type": "stream",
     "text": [
      "dd-148: 2304\n",
      "xx-148: 1152\n"
     ]
    }
   ],
   "source": [
    "import re\n",
    "\n",
    "try:\n",
    "    with open('trace', 'r') as file:\n",
    "        lines = file.readlines()\n",
    "        bytes_req_dict = {}\n",
    "        for line in lines:\n",
    "            if \"kmem_cache_alloc\" in line:\n",
    "                    match = re.search(r'bytes_req=(\\d+)', line)\n",
    "                    if match:\n",
    "                        bytes_req = int(match.group(1))\n",
    "                        words = line.split()\n",
    "                        bytes_req_dict[words[0]] = bytes_req_dict.get(words[0], 0) + bytes_req\n",
    "        for index, bytes in bytes_req_dict.items():\n",
    "            print(f\"{index}: {bytes}\")\n",
    "except FileNotFoundError:\n",
    "    print(\"File not found\")\n",
    "except Exception as e:\n",
    "    print(\"Error:\", e)\n"
   ]
  },
  {
   "cell_type": "code",
   "execution_count": 64,
   "id": "a80e8169",
   "metadata": {},
   "outputs": [
    {
     "name": "stdout",
     "output_type": "stream",
     "text": [
      "dd-148: bytes_req = 2304, bytes_alloc = 2336\n",
      "xx-148: bytes_req = 1152, bytes_alloc = 1168\n"
     ]
    }
   ],
   "source": [
    "import re\n",
    "\n",
    "try:\n",
    "    with open('trace', 'r') as file:\n",
    "        lines = file.readlines()\n",
    "        bytes_dict = {}\n",
    "        for line in lines:\n",
    "            if \"kmem_cache_alloc\" in line:\n",
    "                    match = re.search(r'bytes_req=(\\d+).*bytes_alloc=(\\d+)', line)\n",
    "                    if match:\n",
    "                        bytes_req = int(match.group(1))\n",
    "                        bytes_alloc = int(match.group(2))\n",
    "                        words = line.split()\n",
    "                        cmd = words[0]\n",
    "                        if cmd not in bytes_dict:\n",
    "                            bytes_dict[cmd] = {'bytes_req': 0, 'bytes_alloc': 0}\n",
    "                        bytes_dict[cmd]['bytes_req'] += bytes_req\n",
    "                        bytes_dict[cmd]['bytes_alloc'] += bytes_alloc\n",
    "        for key, value in bytes_dict.items():\n",
    "            total_bytes_req = value['bytes_req']\n",
    "            total_bytes_alloc = value['bytes_alloc']\n",
    "            print(f\"{key}: bytes_req = {total_bytes_req}, bytes_alloc = {total_bytes_alloc}\")\n",
    "\n",
    "except FileNotFoundError:\n",
    "    print(\"File not found\")\n",
    "except Exception as e:\n",
    "    print(\"Error:\", e)\n"
   ]
  },
  {
   "cell_type": "code",
   "execution_count": 65,
   "id": "41899389",
   "metadata": {},
   "outputs": [
    {
     "name": "stdout",
     "output_type": "stream",
     "text": [
      "dd-148: bytes_req = 2304, bytes_alloc = 2336\n",
      "xx-148: bytes_req = 1152, bytes_alloc = 1168\n"
     ]
    }
   ],
   "source": [
    "import re\n",
    "\n",
    "try:\n",
    "    with open('trace', 'r') as file:\n",
    "        lines = file.readlines()\n",
    "        bytes_dict = {}\n",
    "        for line in lines:\n",
    "            if \"kmem_cache_alloc\" in line:\n",
    "                match = re.search(r'bytes_req=(\\d+).*bytes_alloc=(\\d+)', line)\n",
    "                if match:\n",
    "                    bytes_req = int(match.group(1))\n",
    "                    bytes_alloc = int(match.group(2))\n",
    "                    words = line.split()\n",
    "                    cmdline = words[0]\n",
    "                    if cmdline not in bytes_dict:\n",
    "                        bytes_dict[cmdline] = {'bytes_req': 0, 'bytes_alloc': 0}\n",
    "                    bytes_dict[cmdline]['bytes_req'] += bytes_req\n",
    "                    bytes_dict[cmdline]['bytes_alloc'] += bytes_alloc\n",
    "        for index, values in bytes_dict.items():\n",
    "            total_bytes_req = values['bytes_req']\n",
    "            total_bytes_alloc = values['bytes_alloc']\n",
    "            print(f\"{index}: bytes_req = {total_bytes_req}, bytes_alloc = {total_bytes_alloc}\")\n",
    "except FileNotFoundError:\n",
    "    print(\"File not found\")\n",
    "except Exception as e:\n",
    "    print(\"Error:\", e)\n"
   ]
  },
  {
   "cell_type": "code",
   "execution_count": 66,
   "id": "1c79b26c",
   "metadata": {},
   "outputs": [
    {
     "name": "stdout",
     "output_type": "stream",
     "text": [
      "ptr=ffff5ada434d7d98, bytes_req=576, bytes_alloc=584\n",
      "ptr=ffff5ada44a476c0, bytes_req=576, bytes_alloc=584\n",
      "ptr=ffff5ada44a47908, bytes_req=576, bytes_alloc=584\n",
      "ptr=ffff5ada44877478, bytes_req=576, bytes_alloc=584\n"
     ]
    }
   ],
   "source": [
    "import re\n",
    "\n",
    "trace = '''\n",
    "              dd-220     [002] d..1. 140912.939831: kmem_cache_alloc: call_site=xas_create+0x18c/0x4a4 ptr=ffff5ada434d7d98 bytes_req=576 bytes_alloc=584 gfp_flags=GFP_NOWAIT|__GFP_NOWARN|__GFP_ACCOUNT node=-1 accounted=true\n",
    "              dd-220     [003] d..1. 140912.965089: kmem_cache_alloc: call_site=xas_create+0x18c/0x4a4 ptr=ffff5ada44a476c0 bytes_req=576 bytes_alloc=584 gfp_flags=GFP_NOWAIT|__GFP_NOWARN|__GFP_ACCOUNT node=-1 accounted=true\n",
    "              dd-220     [003] d..1. 140912.965109: kmem_cache_alloc: call_site=xas_create+0x3bc/0x4a4 ptr=ffff5ada44a47908 bytes_req=576 bytes_alloc=584 gfp_flags=GFP_NOWAIT|__GFP_NOWARN|__GFP_ACCOUNT node=-1 accounted=true\n",
    "              dd-220     [001] d..1. 140913.060884: kmem_cache_alloc: call_site=xas_create+0x3bc/0x4a4 ptr=ffff5ada44877478 bytes_req=576 bytes_alloc=584 gfp_flags=GFP_NOWAIT|__GFP_NOWARN|__GFP_ACCOUNT node=-1 accounted=true\n",
    "              sh-139     [003] ..s2. 141248.893753: kmem_cache_free: call_site=radix_tree_node_rcu_free+0x40/0x50 ptr=ffff5ada434d7d98 name=radix_tree_node\n",
    "              sh-139     [003] ..s2. 141248.893973: kmem_cache_free: call_site=radix_tree_node_rcu_free+0x40/0x50 ptr=ffff5ada44877478 name=radix_tree_node\n",
    "              sh-139     [003] ..s2. 141248.894019: kmem_cache_free: call_site=radix_tree_node_rcu_free+0x40/0x50 ptr=ffff5ada44a47908 name=radix_tree_node\n",
    "              sh-139     [003] ..s2. 141248.894037: kmem_cache_free: call_site=radix_tree_node_rcu_free+0x40/0x50 ptr=ffff5ada44a476c0 name=radix_tree_node\n",
    "              sh-139     [003] ..s1. 141248.909462: kmem_cache_free: call_site=radix_tree_node_rcu_free+0x40/0x50 ptr=ffff5ada434f5488 name=radix_tree_node\n",
    "              sh-139     [003] ..s1. 141248.909512: kmem_cache_free: call_site=radix_tree_node_rcu_free+0x40/0x50 ptr=ffff5ada434cd488 name=radix_tree_node\n",
    "              sh-139     [003] ..s1. 141248.909527: kmem_cache_free: call_site=radix_tree_node_rcu_free+0x40/0x50 ptr=ffff5ada434cd6d0 name=radix_tree_node\n",
    "              sh-139     [003] ..s1. 141248.909534: kmem_cache_free: call_site=radix_tree_node_rcu_free+0x40/0x50 ptr=ffff5ada434cd918 name=radix_tree_node\n",
    "'''\n",
    "\n",
    "matches = re.findall(r'kmem_cache_alloc:.*ptr=([0-9a-fA-F]+).*bytes_req=(\\d+).*bytes_alloc=(\\d+)', trace)\n",
    "\n",
    "for match in matches:\n",
    "    ptr = match[0]\n",
    "    bytes_req = int(match[1])\n",
    "    bytes_alloc = int(match[2])\n",
    "    print(f\"ptr={ptr}, bytes_req={bytes_req}, bytes_alloc={bytes_alloc}\")\n"
   ]
  },
  {
   "cell_type": "code",
   "execution_count": 67,
   "id": "cdc15cb4",
   "metadata": {},
   "outputs": [
    {
     "name": "stdout",
     "output_type": "stream",
     "text": [
      "dd-220:\n",
      "  ptr: ffff5ada434d7d98, bytes_req: 576, bytes_alloc: 584\n",
      "  ptr: ffff5ada44a476c0, bytes_req: 576, bytes_alloc: 584\n",
      "  ptr: ffff5ada44a47908, bytes_req: 576, bytes_alloc: 584\n",
      "  ptr: ffff5ada44877478, bytes_req: 576, bytes_alloc: 584\n"
     ]
    }
   ],
   "source": [
    "import re\n",
    "\n",
    "trace = '''\n",
    "              dd-220     [002] d..1. 140912.939831: kmem_cache_alloc: call_site=xas_create+0x18c/0x4a4 ptr=ffff5ada434d7d98 bytes_req=576 bytes_alloc=584 gfp_flags=GFP_NOWAIT|__GFP_NOWARN|__GFP_ACCOUNT node=-1 accounted=true\n",
    "              dd-220     [003] d..1. 140912.965089: kmem_cache_alloc: call_site=xas_create+0x18c/0x4a4 ptr=ffff5ada44a476c0 bytes_req=576 bytes_alloc=584 gfp_flags=GFP_NOWAIT|__GFP_NOWARN|__GFP_ACCOUNT node=-1 accounted=true\n",
    "              dd-220     [003] d..1. 140912.965109: kmem_cache_alloc: call_site=xas_create+0x3bc/0x4a4 ptr=ffff5ada44a47908 bytes_req=576 bytes_alloc=584 gfp_flags=GFP_NOWAIT|__GFP_NOWARN|__GFP_ACCOUNT node=-1 accounted=true\n",
    "              dd-220     [001] d..1. 140913.060884: kmem_cache_alloc: call_site=xas_create+0x3bc/0x4a4 ptr=ffff5ada44877478 bytes_req=576 bytes_alloc=584 gfp_flags=GFP_NOWAIT|__GFP_NOWARN|__GFP_ACCOUNT node=-1 accounted=true\n",
    "              sh-139     [003] ..s2. 141248.893753: kmem_cache_free: call_site=radix_tree_node_rcu_free+0x40/0x50 ptr=ffff5ada434d7d98 name=radix_tree_node\n",
    "              sh-139     [003] ..s2. 141248.893973: kmem_cache_free: call_site=radix_tree_node_rcu_free+0x40/0x50 ptr=ffff5ada44877478 name=radix_tree_node\n",
    "              sh-139     [003] ..s2. 141248.894019: kmem_cache_free: call_site=radix_tree_node_rcu_free+0x40/0x50 ptr=ffff5ada44a47908 name=radix_tree_node\n",
    "              sh-139     [003] ..s2. 141248.894037: kmem_cache_free: call_site=radix_tree_node_rcu_free+0x40/0x50 ptr=ffff5ada44a476c0 name=radix_tree_node\n",
    "              sh-139     [003] ..s1. 141248.909462: kmem_cache_free: call_site=radix_tree_node_rcu_free+0x40/0x50 ptr=ffff5ada434f5488 name=radix_tree_node\n",
    "              sh-139     [003] ..s1. 141248.909512: kmem_cache_free: call_site=radix_tree_node_rcu_free+0x40/0x50 ptr=ffff5ada434cd488 name=radix_tree_node\n",
    "              sh-139     [003] ..s1. 141248.909527: kmem_cache_free: call_site=radix_tree_node_rcu_free+0x40/0x50 ptr=ffff5ada434cd6d0 name=radix_tree_node\n",
    "              sh-139     [003] ..s1. 141248.909534: kmem_cache_free: call_site=radix_tree_node_rcu_free+0x40/0x50 ptr=ffff5ada434cd918 name=radix_tree_node\n",
    "'''\n",
    "\n",
    "# 将每行内容分割成列表\n",
    "lines = trace.split('\\n')\n",
    "\n",
    "# 初始化一个空字典，用于存储数据\n",
    "data_dict = {}\n",
    "\n",
    "# 遍历每行内容\n",
    "for line in lines:\n",
    "    # 查找包含 kmem_cache_alloc 的行\n",
    "    if \"kmem_cache_alloc\" in line:\n",
    "        # 使用正则表达式匹配 ptr、bytes_req、bytes_alloc 的值\n",
    "        match = re.search(r'(\\S+).*ptr=(\\S+).*bytes_req=(\\d+).*bytes_alloc=(\\d+)', line)\n",
    "        if match:\n",
    "            # 提取匹配到的值\n",
    "            first_word = match.group(1)\n",
    "            ptr = match.group(2)\n",
    "            bytes_req = int(match.group(3))\n",
    "            bytes_alloc = int(match.group(4))\n",
    "            \n",
    "            # 将值存储到字典中\n",
    "            if first_word not in data_dict:\n",
    "                data_dict[first_word] = []\n",
    "            data_dict[first_word].append({'ptr': ptr, 'bytes_req': bytes_req, 'bytes_alloc': bytes_alloc})\n",
    "\n",
    "# 打印整理好的数据\n",
    "for key, values in data_dict.items():\n",
    "    print(f\"{key}:\")\n",
    "    for entry in values:\n",
    "        print(f\"  ptr: {entry['ptr']}, bytes_req: {entry['bytes_req']}, bytes_alloc: {entry['bytes_alloc']}\")\n"
   ]
  },
  {
   "cell_type": "code",
   "execution_count": 68,
   "id": "73074491",
   "metadata": {},
   "outputs": [
    {
     "name": "stdout",
     "output_type": "stream",
     "text": [
      "dd-220: {'ptr': 'ffff5ada44877478', 'bytes_req': 576, 'bytes_alloc': 584}\n"
     ]
    }
   ],
   "source": [
    "trace = '''\n",
    "              dd-220     [002] d..1. 140912.939831: kmem_cache_alloc: call_site=xas_create+0x18c/0x4a4 ptr=ffff5ada434d7d98 bytes_req=576 bytes_alloc=584 gfp_flags=GFP_NOWAIT|__GFP_NOWARN|__GFP_ACCOUNT node=-1 accounted=true\n",
    "              dd-220     [003] d..1. 140912.965089: kmem_cache_alloc: call_site=xas_create+0x18c/0x4a4 ptr=ffff5ada44a476c0 bytes_req=576 bytes_alloc=584 gfp_flags=GFP_NOWAIT|__GFP_NOWARN|__GFP_ACCOUNT node=-1 accounted=true\n",
    "              dd-220     [003] d..1. 140912.965109: kmem_cache_alloc: call_site=xas_create+0x3bc/0x4a4 ptr=ffff5ada44a47908 bytes_req=576 bytes_alloc=584 gfp_flags=GFP_NOWAIT|__GFP_NOWARN|__GFP_ACCOUNT node=-1 accounted=true\n",
    "              dd-220     [001] d..1. 140913.060884: kmem_cache_alloc: call_site=xas_create+0x3bc/0x4a4 ptr=ffff5ada44877478 bytes_req=576 bytes_alloc=584 gfp_flags=GFP_NOWAIT|__GFP_NOWARN|__GFP_ACCOUNT node=-1 accounted=true\n",
    "              sh-139     [003] ..s2. 141248.893753: kmem_cache_free: call_site=radix_tree_node_rcu_free+0x40/0x50 ptr=ffff5ada434d7d98 name=radix_tree_node\n",
    "              sh-139     [003] ..s2. 141248.893973: kmem_cache_free: call_site=radix_tree_node_rcu_free+0x40/0x50 ptr=ffff5ada44877478 name=radix_tree_node\n",
    "              sh-139     [003] ..s2. 141248.894019: kmem_cache_free: call_site=radix_tree_node_rcu_free+0x40/0x50 ptr=ffff5ada44a47908 name=radix_tree_node\n",
    "              sh-139     [003] ..s2. 141248.894037: kmem_cache_free: call_site=radix_tree_node_rcu_free+0x40/0x50 ptr=ffff5ada44a476c0 name=radix_tree_node\n",
    "              sh-139     [003] ..s1. 141248.909462: kmem_cache_free: call_site=radix_tree_node_rcu_free+0x40/0x50 ptr=ffff5ada434f5488 name=radix_tree_node\n",
    "              sh-139     [003] ..s1. 141248.909512: kmem_cache_free: call_site=radix_tree_node_rcu_free+0x40/0x50 ptr=ffff5ada434cd488 name=radix_tree_node\n",
    "              sh-139     [003] ..s1. 141248.909527: kmem_cache_free: call_site=radix_tree_node_rcu_free+0x40/0x50 ptr=ffff5ada434cd6d0 name=radix_tree_node\n",
    "              sh-139     [003] ..s1. 141248.909534: kmem_cache_free: call_site=radix_tree_node_rcu_free+0x40/0x50 ptr=ffff5ada434cd918 name=radix_tree_node\n",
    "'''\n",
    "\n",
    "# 1. 提取包含 kmem_cache_alloc 的行中的相关信息，并将这些信息存储到字典中\n",
    "alloc_lines = [line for line in trace.split('\\n') if \"kmem_cache_alloc\" in line]\n",
    "alloc_dict = {}\n",
    "\n",
    "for line in alloc_lines:\n",
    "    words = line.split()\n",
    "    key = words[0]\n",
    "    match_ptr = re.search(r'ptr=([a-fA-F\\d]+)', line)\n",
    "    match_req = re.search(r'bytes_req=(\\d+)', line)\n",
    "    match_alloc = re.search(r'bytes_alloc=(\\d+)', line)\n",
    "    \n",
    "    if match_ptr and match_req and match_alloc:\n",
    "        ptr = match_ptr.group(1)\n",
    "        bytes_req = int(match_req.group(1))\n",
    "        bytes_alloc = int(match_alloc.group(1))\n",
    "        alloc_dict[key] = {'ptr': ptr, 'bytes_req': bytes_req, 'bytes_alloc': bytes_alloc}\n",
    "\n",
    "# 2. 在 kmem_cache_free 的行中，检查每行的第一个词（键），并尝试在字典中找到相应的值，若存在与本行的 ptr 相同的 value 则删除\n",
    "free_lines = [line for line in trace.split('\\n') if \"kmem_cache_free\" in line]\n",
    "\n",
    "for line in free_lines:\n",
    "    words = line.split()\n",
    "    key = words[0]\n",
    "    match_ptr = re.search(r'ptr=([a-fA-F\\d]+)', line)\n",
    "    \n",
    "    if match_ptr and key in alloc_dict and alloc_dict[key]['ptr'] == match_ptr.group(1):\n",
    "        del alloc_dict[key]\n",
    "\n",
    "# 打印结果\n",
    "for key, value in alloc_dict.items():\n",
    "    print(f\"{key}: {value}\")\n"
   ]
  },
  {
   "cell_type": "markdown",
   "id": "253b847e",
   "metadata": {},
   "source": [
    "处理数据的规则：\n",
    "1. 遍历行，在包含kmem_cache_alloc的行中，匹配值提取相应的数据，并将其以ptr作为键保存在alloc_dict中。\n",
    "2. 遍历行，在包含kmem_cache_free的行中找到匹配的ptr，并删除alloc_dict中对应的记录。\n",
    "3. 打印剩余的alloc_dict中的记录。"
   ]
  },
  {
   "cell_type": "code",
   "execution_count": 76,
   "id": "9a9a93fe",
   "metadata": {},
   "outputs": [
    {
     "name": "stdout",
     "output_type": "stream",
     "text": [
      "ffff5ada44a476c0: {'word_0': 'dd-220', 'bytes_req': 576, 'bytes_alloc': 584}\n",
      "ffff5ada44a47908: {'word_0': 'dd-220', 'bytes_req': 576, 'bytes_alloc': 584}\n"
     ]
    }
   ],
   "source": [
    "import re\n",
    "\n",
    "trace = '''\n",
    "              dd-220     [002] d..1. 140912.939831: kmem_cache_alloc: call_site=xas_create+0x18c/0x4a4 ptr=ffff5ada434d7d98 bytes_req=576 bytes_alloc=584 gfp_flags=GFP_NOWAIT|__GFP_NOWARN|__GFP_ACCOUNT node=-1 accounted=true\n",
    "              dd-220     [003] d..1. 140912.965089: kmem_cache_alloc: call_site=xas_create+0x18c/0x4a4 ptr=ffff5ada44a476c0 bytes_req=576 bytes_alloc=584 gfp_flags=GFP_NOWAIT|__GFP_NOWARN|__GFP_ACCOUNT node=-1 accounted=true\n",
    "              dd-220     [003] d..1. 140912.965109: kmem_cache_alloc: call_site=xas_create+0x3bc/0x4a4 ptr=ffff5ada44a47908 bytes_req=576 bytes_alloc=584 gfp_flags=GFP_NOWAIT|__GFP_NOWARN|__GFP_ACCOUNT node=-1 accounted=true\n",
    "              dd-220     [001] d..1. 140913.060884: kmem_cache_alloc: call_site=xas_create+0x3bc/0x4a4 ptr=ffff5ada44877478 bytes_req=576 bytes_alloc=584 gfp_flags=GFP_NOWAIT|__GFP_NOWARN|__GFP_ACCOUNT node=-1 accounted=true\n",
    "              sh-139     [003] ..s2. 141248.893753: kmem_cache_free: call_site=radix_tree_node_rcu_free+0x40/0x50 ptr=ffff5ada434d7d98 name=radix_tree_node\n",
    "              sh-139     [003] ..s2. 141248.893973: kmem_cache_free: call_site=radix_tree_node_rcu_free+0x40/0x50 ptr=ffff5ada44877478 name=radix_tree_node\n",
    "'''\n",
    "\n",
    "# 1. 遍历每一行，提取包含kmem_cache_alloc的行中的ptr、word[0]、bytes_req、bytes_alloc并保存\n",
    "alloc_lines = [line for line in trace.split('\\n') if \"kmem_cache_alloc\" in line]\n",
    "alloc_dict = {}\n",
    "\n",
    "for line in alloc_lines:\n",
    "    words = line.split()\n",
    "    match_ptr = re.search(r'ptr=([a-fA-F\\d]+)', line)\n",
    "    match_req = re.search(r'bytes_req=(\\d+)', line)\n",
    "    match_alloc = re.search(r'bytes_alloc=(\\d+)', line)\n",
    "    \n",
    "    if match_ptr and match_req and match_alloc:\n",
    "        ptr = match_ptr.group(1)\n",
    "        word_0 = words[0]\n",
    "        bytes_req = int(match_req.group(1))\n",
    "        bytes_alloc = int(match_alloc.group(1))\n",
    "        alloc_dict[ptr] = {'word_0': word_0, 'bytes_req': bytes_req, 'bytes_alloc': bytes_alloc}\n",
    "\n",
    "# 2. 遍历每一行，提取包含kmem_cache_free的行的ptr，如果与保存的ptr相同则删除这个保存记录\n",
    "free_lines = [line for line in trace.split('\\n') if \"kmem_cache_free\" in line]\n",
    "\n",
    "for line in free_lines:\n",
    "    match_ptr = re.search(r'ptr=([a-fA-F\\d]+)', line)\n",
    "    if match_ptr:\n",
    "        ptr = match_ptr.group(1)\n",
    "        if ptr in alloc_dict:\n",
    "            del alloc_dict[ptr]\n",
    "\n",
    "# 打印结果\n",
    "for key, value in alloc_dict.items():\n",
    "   print(f\"{key}: {value}\")"
   ]
  },
  {
   "cell_type": "markdown",
   "id": "e0666b06",
   "metadata": {},
   "source": [
    "在一次遍历中同时处理alloc和free以便节约内存。"
   ]
  },
  {
   "cell_type": "code",
   "execution_count": 74,
   "id": "be6b2a99",
   "metadata": {
    "scrolled": true
   },
   "outputs": [
    {
     "name": "stdout",
     "output_type": "stream",
     "text": [
      "ffff5ada44a476c0: {'word_0': 'dd-220', 'bytes_req': 576, 'bytes_alloc': 584}\n",
      "ffff5ada44a47908: {'word_0': 'dd-220', 'bytes_req': 576, 'bytes_alloc': 584}\n"
     ]
    }
   ],
   "source": [
    "import re\n",
    "\n",
    "trace = '''\n",
    "              dd-220     [002] d..1. 140912.939831: kmem_cache_alloc: call_site=xas_create+0x18c/0x4a4 ptr=ffff5ada434d7d98 bytes_req=576 bytes_alloc=584 gfp_flags=GFP_NOWAIT|__GFP_NOWARN|__GFP_ACCOUNT node=-1 accounted=true\n",
    "              dd-220     [003] d..1. 140912.965089: kmem_cache_alloc: call_site=xas_create+0x18c/0x4a4 ptr=ffff5ada44a476c0 bytes_req=576 bytes_alloc=584 gfp_flags=GFP_NOWAIT|__GFP_NOWARN|__GFP_ACCOUNT node=-1 accounted=true\n",
    "              dd-220     [003] d..1. 140912.965109: kmem_cache_alloc: call_site=xas_create+0x3bc/0x4a4 ptr=ffff5ada44a47908 bytes_req=576 bytes_alloc=584 gfp_flags=GFP_NOWAIT|__GFP_NOWARN|__GFP_ACCOUNT node=-1 accounted=true\n",
    "              dd-220     [001] d..1. 140913.060884: kmem_cache_alloc: call_site=xas_create+0x3bc/0x4a4 ptr=ffff5ada44877478 bytes_req=576 bytes_alloc=584 gfp_flags=GFP_NOWAIT|__GFP_NOWARN|__GFP_ACCOUNT node=-1 accounted=true\n",
    "              sh-139     [003] ..s2. 141248.893753: kmem_cache_free: call_site=radix_tree_node_rcu_free+0x40/0x50 ptr=ffff5ada434d7d98 name=radix_tree_node\n",
    "              sh-139     [003] ..s2. 141248.893973: kmem_cache_free: call_site=radix_tree_node_rcu_free+0x40/0x50 ptr=ffff5ada44877478 name=radix_tree_node\n",
    "'''\n",
    "\n",
    "alloc_dict = {}\n",
    "\n",
    "# 遍历每一行，同时处理包含kmem_cache_alloc和kmem_cache_free的情况\n",
    "for line in trace.split('\\n'):\n",
    "    if \"kmem_cache_alloc\" in line:\n",
    "        words = line.split()\n",
    "        match_ptr = re.search(r'ptr=([a-fA-F\\d]+)', line)\n",
    "        match_req = re.search(r'bytes_req=(\\d+)', line)\n",
    "        match_alloc = re.search(r'bytes_alloc=(\\d+)', line)\n",
    "        \n",
    "        if match_ptr and match_req and match_alloc:\n",
    "            ptr = match_ptr.group(1)\n",
    "            word_0 = words[0]\n",
    "            bytes_req = int(match_req.group(1))\n",
    "            bytes_alloc = int(match_alloc.group(1))\n",
    "            alloc_dict[ptr] = {'word_0': word_0, 'bytes_req': bytes_req, 'bytes_alloc': bytes_alloc}\n",
    "    \n",
    "    elif \"kmem_cache_free\" in line:\n",
    "        match_ptr = re.search(r'ptr=([a-fA-F\\d]+)', line)\n",
    "        if match_ptr:\n",
    "            ptr = match_ptr.group(1)\n",
    "            if ptr in alloc_dict:\n",
    "                del alloc_dict[ptr]\n",
    "\n",
    "# 打印结果\n",
    "for key, value in alloc_dict.items():\n",
    "    print(f\"{key}: {value}\")\n"
   ]
  },
  {
   "cell_type": "markdown",
   "id": "75b72a27",
   "metadata": {},
   "source": [
    "对于大型日志文件或者大量数据的处理，以下是一些优化建议：\n",
    "1. **生成器表达式**：使用生成器表达式来处理行而不是列表推导式。这将逐行读取文件，而不是一次性加载整个文件到内存中，有助于节省内存和提高效率。\n",
    "2. **正则表达式编译**：如果你使用相同的正则表达式模式多次，可以使用 re.compile() 编译这些模式，提高正则表达式的匹配速度。\n",
    "3. **减少条件语句**：尽量避免不必要的条件语句和操作，只保留必要的逻辑判断。\n",
    "\n",
    "下面程序使用了生成器表达式，使用了编译后的正则表达式模式，并尽量简化了条件语句。这些优化措施能够提高代码的性能和效率，尤其对于大型日志文件或大量数据的处理会更为明显。"
   ]
  },
  {
   "cell_type": "code",
   "execution_count": 78,
   "id": "5214a3c8",
   "metadata": {},
   "outputs": [
    {
     "name": "stdout",
     "output_type": "stream",
     "text": [
      "ffff5ada44a476c0: {'cmd': 'dd-220', 'bytes_req': 576, 'bytes_alloc': 584}\n",
      "ffff5ada44a47908: {'cmd': 'dd-220', 'bytes_req': 576, 'bytes_alloc': 584}\n"
     ]
    }
   ],
   "source": [
    "import re\n",
    "\n",
    "trace = '''\n",
    "              dd-220     [002] d..1. 140912.939831: kmem_cache_alloc: call_site=xas_create+0x18c/0x4a4 ptr=ffff5ada434d7d98 bytes_req=576 bytes_alloc=584 gfp_flags=GFP_NOWAIT|__GFP_NOWARN|__GFP_ACCOUNT node=-1 accounted=true\n",
    "              dd-220     [003] d..1. 140912.965089: kmem_cache_alloc: call_site=xas_create+0x18c/0x4a4 ptr=ffff5ada44a476c0 bytes_req=576 bytes_alloc=584 gfp_flags=GFP_NOWAIT|__GFP_NOWARN|__GFP_ACCOUNT node=-1 accounted=true\n",
    "              dd-220     [003] d..1. 140912.965109: kmem_cache_alloc: call_site=xas_create+0x3bc/0x4a4 ptr=ffff5ada44a47908 bytes_req=576 bytes_alloc=584 gfp_flags=GFP_NOWAIT|__GFP_NOWARN|__GFP_ACCOUNT node=-1 accounted=true\n",
    "              dd-220     [001] d..1. 140913.060884: kmem_cache_alloc: call_site=xas_create+0x3bc/0x4a4 ptr=ffff5ada44877478 bytes_req=576 bytes_alloc=584 gfp_flags=GFP_NOWAIT|__GFP_NOWARN|__GFP_ACCOUNT node=-1 accounted=true\n",
    "              sh-139     [003] ..s2. 141248.893753: kmem_cache_free: call_site=radix_tree_node_rcu_free+0x40/0x50 ptr=ffff5ada434d7d98 name=radix_tree_node\n",
    "              sh-139     [003] ..s2. 141248.893973: kmem_cache_free: call_site=radix_tree_node_rcu_free+0x40/0x50 ptr=ffff5ada44877478 name=radix_tree_node\n",
    "'''\n",
    "\n",
    "alloc_dict = {}\n",
    "\n",
    "# 编译正则表达式模式\n",
    "alloc_pattern = re.compile(r'ptr=([a-fA-F\\d]+).*bytes_req=(\\d+).*bytes_alloc=(\\d+)')\n",
    "free_pattern = re.compile(r'ptr=([a-fA-F\\d]+)')\n",
    "\n",
    "# 遍历每一行，同时处理包含kmem_cache_alloc和kmem_cache_free的情况\n",
    "for line in trace.split('\\n'):\n",
    "    if \"kmem_cache_alloc\" in line:\n",
    "        words = line.split()\n",
    "        match = alloc_pattern.search(line)\n",
    "        if match:\n",
    "            ptr, bytes_req, bytes_alloc = match.groups()\n",
    "            cmd = words[0]  # 获取第一个单词作为命令\n",
    "            alloc_dict[ptr] = {'cmd': cmd, 'bytes_req': int(bytes_req), 'bytes_alloc': int(bytes_alloc)}\n",
    "    \n",
    "    elif \"kmem_cache_free\" in line:\n",
    "        match = free_pattern.search(line)\n",
    "        if match:\n",
    "            ptr = match.group(1)\n",
    "            alloc_dict.pop(ptr, None)\n",
    "\n",
    "# 打印结果\n",
    "for key, value in alloc_dict.items():\n",
    "    print(f\"{key}: {value}\")\n"
   ]
  },
  {
   "cell_type": "markdown",
   "id": "350e7747",
   "metadata": {},
   "source": [
    "在最后剩余的记录中对相同 cmd 的条目做求和。"
   ]
  },
  {
   "cell_type": "code",
   "execution_count": 85,
   "id": "2eed0756",
   "metadata": {},
   "outputs": [
    {
     "name": "stdout",
     "output_type": "stream",
     "text": [
      "dd-220: {'bytes_req': 1152, 'bytes_alloc': 1168}\n",
      "ffff5ada44a476c0: {'cmd': 'dd-220', 'bytes_req': 576, 'bytes_alloc': 584}\n",
      "ffff5ada44a47908: {'cmd': 'dd-220', 'bytes_req': 576, 'bytes_alloc': 584}\n"
     ]
    }
   ],
   "source": [
    "import re\n",
    "from collections import defaultdict\n",
    "\n",
    "trace = '''\n",
    "              dd-220     [002] d..1. 140912.939831: kmem_cache_alloc: call_site=xas_create+0x18c/0x4a4 ptr=ffff5ada434d7d98 bytes_req=576 bytes_alloc=584 gfp_flags=GFP_NOWAIT|__GFP_NOWARN|__GFP_ACCOUNT node=-1 accounted=true\n",
    "              dd-220     [003] d..1. 140912.965089: kmem_cache_alloc: call_site=xas_create+0x18c/0x4a4 ptr=ffff5ada44a476c0 bytes_req=576 bytes_alloc=584 gfp_flags=GFP_NOWAIT|__GFP_NOWARN|__GFP_ACCOUNT node=-1 accounted=true\n",
    "              dd-220     [003] d..1. 140912.965109: kmem_cache_alloc: call_site=xas_create+0x3bc/0x4a4 ptr=ffff5ada44a47908 bytes_req=576 bytes_alloc=584 gfp_flags=GFP_NOWAIT|__GFP_NOWARN|__GFP_ACCOUNT node=-1 accounted=true\n",
    "              dd-220     [001] d..1. 140913.060884: kmem_cache_alloc: call_site=xas_create+0x3bc/0x4a4 ptr=ffff5ada44877478 bytes_req=576 bytes_alloc=584 gfp_flags=GFP_NOWAIT|__GFP_NOWARN|__GFP_ACCOUNT node=-1 accounted=true\n",
    "              sh-139     [003] ..s2. 141248.893753: kmem_cache_free: call_site=radix_tree_node_rcu_free+0x40/0x50 ptr=ffff5ada434d7d98 name=radix_tree_node\n",
    "              sh-139     [003] ..s2. 141248.893973: kmem_cache_free: call_site=radix_tree_node_rcu_free+0x40/0x50 ptr=ffff5ada44877478 name=radix_tree_node\n",
    "'''\n",
    "\n",
    "alloc_dict = defaultdict(lambda: {'cmd': '', 'bytes_req': 0, 'bytes_alloc': 0})\n",
    "final_alloc_dict = defaultdict(lambda: {'bytes_req': 0, 'bytes_alloc': 0})\n",
    "\n",
    "# 编译正则表达式模式\n",
    "alloc_pattern = re.compile(r'ptr=([a-fA-F\\d]+).*bytes_req=(\\d+).*bytes_alloc=(\\d+)')\n",
    "free_pattern = re.compile(r'ptr=([a-fA-F\\d]+)')\n",
    "\n",
    "# 处理包含kmem_cache_alloc和kmem_cache_free的情况\n",
    "for line in trace.split('\\n'):\n",
    "    words = line.split()\n",
    "    if \"kmem_cache_alloc\" in line:\n",
    "        match = alloc_pattern.search(line)\n",
    "        if match:\n",
    "            ptr, bytes_req, bytes_alloc = match.groups()\n",
    "            alloc_dict[ptr].update({'cmd': words[0], 'bytes_req': int(bytes_req), 'bytes_alloc': int(bytes_alloc)})\n",
    "    elif \"kmem_cache_free\" in line:\n",
    "        match = free_pattern.search(line)\n",
    "        if match:\n",
    "            ptr = match.group(1)\n",
    "            alloc_dict.pop(ptr, None)\n",
    "\n",
    "# 汇总相同cmd的bytes_req和bytes_alloc\n",
    "for ptr, values in alloc_dict.items():\n",
    "    final_alloc_dict[values['cmd']]['bytes_req'] += values['bytes_req']\n",
    "    final_alloc_dict[values['cmd']]['bytes_alloc'] += values['bytes_alloc']\n",
    "\n",
    "# 打印结果\n",
    "for cmd, values in final_alloc_dict.items():\n",
    "    print(f\"{cmd}: {values}\")\n",
    "\n",
    "for key, value in alloc_dict.items():\n",
    "    print(f\"{key}: {value}\")"
   ]
  },
  {
   "cell_type": "code",
   "execution_count": 1,
   "id": "0d599d33",
   "metadata": {},
   "outputs": [
    {
     "name": "stderr",
     "output_type": "stream",
     "text": [
      "Warning: Ignoring XDG_SESSION_TYPE=wayland on Gnome. Use QT_QPA_PLATFORM=wayland to run on Wayland anyway.\n",
      "libGL error: MESA-LOADER: failed to open vmwgfx: /usr/lib/dri/vmwgfx_dri.so: cannot open shared object file: No such file or directory (search paths /usr/lib/x86_64-linux-gnu/dri:\\$${ORIGIN}/dri:/usr/lib/dri, suffix _dri)\n",
      "libGL error: failed to load driver: vmwgfx\n",
      "libGL error: MESA-LOADER: failed to open swrast: /usr/lib/dri/swrast_dri.so: cannot open shared object file: No such file or directory (search paths /usr/lib/x86_64-linux-gnu/dri:\\$${ORIGIN}/dri:/usr/lib/dri, suffix _dri)\n",
      "libGL error: failed to load driver: swrast\n"
     ]
    },
    {
     "ename": "SystemExit",
     "evalue": "0",
     "output_type": "error",
     "traceback": [
      "An exception has occurred, use %tb to see the full traceback.\n",
      "\u001b[0;31mSystemExit\u001b[0m\u001b[0;31m:\u001b[0m 0\n"
     ]
    },
    {
     "name": "stderr",
     "output_type": "stream",
     "text": [
      "/home/andrew/anaconda3/lib/python3.11/site-packages/IPython/core/interactiveshell.py:3534: UserWarning: To exit: use 'exit', 'quit', or Ctrl-D.\n",
      "  warn(\"To exit: use 'exit', 'quit', or Ctrl-D.\", stacklevel=1)\n"
     ]
    }
   ],
   "source": [
    "import sys\n",
    "from PyQt5.QtWidgets import QApplication, QMainWindow, QTextEdit, QPushButton, QVBoxLayout, QWidget, QFileDialog\n",
    "from collections import defaultdict\n",
    "import re\n",
    "\n",
    "class AllocDictsApp(QMainWindow):\n",
    "    def __init__(self):\n",
    "        super().__init__()\n",
    "\n",
    "        self.setWindowTitle(\"Alloc Dicts\")\n",
    "        self.setGeometry(100, 100, 800, 600)\n",
    "\n",
    "        central_widget = QWidget()\n",
    "        self.setCentralWidget(central_widget)\n",
    "        layout = QVBoxLayout(central_widget)\n",
    "\n",
    "        self.trace_text = QTextEdit()\n",
    "        layout.addWidget(self.trace_text)\n",
    "\n",
    "        load_button = QPushButton(\"Load Trace File\", self)\n",
    "        load_button.clicked.connect(self.load_trace)\n",
    "        layout.addWidget(load_button)\n",
    "\n",
    "        analyze_button = QPushButton(\"Analyze Trace\", self)\n",
    "        analyze_button.clicked.connect(self.analyze_trace)\n",
    "        layout.addWidget(analyze_button)\n",
    "\n",
    "        self.result_text = QTextEdit()\n",
    "        layout.addWidget(self.result_text)\n",
    "\n",
    "        self.alloc_text = QTextEdit()\n",
    "        layout.addWidget(self.alloc_text)\n",
    "\n",
    "    def load_trace(self):\n",
    "        file_path, _ = QFileDialog.getOpenFileName(self, \"Load Trace File\", \"\", \"Text files (*.txt);;All files (*.*)\")\n",
    "        if file_path:\n",
    "            with open(file_path, 'r') as file:\n",
    "                trace_data = file.read()\n",
    "                self.trace_text.clear()\n",
    "                self.trace_text.insertPlainText(trace_data)\n",
    "\n",
    "    def analyze_trace(self):\n",
    "        trace_data = self.trace_text.toPlainText()\n",
    "        alloc_dict, final_alloc_dict = self.process_trace(trace_data)\n",
    "        self.result_text.clear()\n",
    "        self.alloc_text.clear()\n",
    "\n",
    "        for cmd, values in final_alloc_dict.items():\n",
    "            self.result_text.insertPlainText(f\"{cmd}: {values}\\n\")\n",
    "\n",
    "        for key, value in alloc_dict.items():\n",
    "            self.alloc_text.insertPlainText(f\"{key}: {value}\\n\")\n",
    "\n",
    "    def process_trace(self, trace):\n",
    "        alloc_dict = defaultdict(lambda: {'cmd': '', 'bytes_req': 0, 'bytes_alloc': 0})\n",
    "        final_alloc_dict = defaultdict(lambda: {'bytes_req': 0, 'bytes_alloc': 0})\n",
    "\n",
    "        alloc_pattern = re.compile(r'ptr=([a-fA-F\\d]+).*bytes_req=(\\d+).*bytes_alloc=(\\d+)')\n",
    "        free_pattern = re.compile(r'ptr=([a-fA-F\\d]+)')\n",
    "\n",
    "        lines = trace.split('\\n')\n",
    "        for line in lines:\n",
    "            words = line.split()\n",
    "            if \"kmem_cache_alloc\" in line:\n",
    "                match = alloc_pattern.search(line)\n",
    "                if match:\n",
    "                    ptr, bytes_req, bytes_alloc = match.groups()\n",
    "                    alloc_dict[ptr].update({'cmd': words[0], 'bytes_req': int(bytes_req), 'bytes_alloc': int(bytes_alloc)})\n",
    "            elif \"kmem_cache_free\" in line:\n",
    "                match = free_pattern.search(line)\n",
    "                if match:\n",
    "                    ptr = match.group(1)\n",
    "                    alloc_dict.pop(ptr, None)\n",
    "\n",
    "        for ptr, values in alloc_dict.items():\n",
    "            cmd = values['cmd']\n",
    "            final_alloc_dict[cmd]['bytes_req'] += values['bytes_req']\n",
    "            final_alloc_dict[cmd]['bytes_alloc'] += values['bytes_alloc']\n",
    "\n",
    "        return alloc_dict, final_alloc_dict\n",
    "\n",
    "if __name__ == '__main__':\n",
    "    app = QApplication(sys.argv)\n",
    "    window = AllocDictsApp()\n",
    "    window.show()\n",
    "    sys.exit(app.exec_())"
   ]
  },
  {
   "cell_type": "code",
   "execution_count": null,
   "id": "37f378ac",
   "metadata": {},
   "outputs": [],
   "source": []
  },
  {
   "cell_type": "code",
   "execution_count": null,
   "id": "eb355f70",
   "metadata": {},
   "outputs": [],
   "source": []
  }
 ],
 "metadata": {
  "kernelspec": {
   "display_name": "Python 3 (ipykernel)",
   "language": "python",
   "name": "python3"
  },
  "language_info": {
   "codemirror_mode": {
    "name": "ipython",
    "version": 3
   },
   "file_extension": ".py",
   "mimetype": "text/x-python",
   "name": "python",
   "nbconvert_exporter": "python",
   "pygments_lexer": "ipython3",
   "version": "3.11.5"
  }
 },
 "nbformat": 4,
 "nbformat_minor": 5
}
