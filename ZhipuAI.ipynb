{
 "cells": [
  {
   "cell_type": "code",
   "execution_count": 2,
   "metadata": {},
   "outputs": [
    {
     "name": "stdout",
     "output_type": "stream",
     "text": [
      "Looking in indexes: https://pypi.tuna.tsinghua.edu.cn/simple\n",
      "Requirement already satisfied: zhipuai in c:\\users\\andrew\\miniforge3\\envs\\langchain\\lib\\site-packages (2.0.1)\n",
      "Requirement already satisfied: httpx>=0.23.0 in c:\\users\\andrew\\miniforge3\\envs\\langchain\\lib\\site-packages (from zhipuai) (0.27.0)\n",
      "Requirement already satisfied: pydantic>=2.5.2 in c:\\users\\andrew\\miniforge3\\envs\\langchain\\lib\\site-packages (from zhipuai) (2.6.3)\n",
      "Requirement already satisfied: cachetools>=4.2.2 in c:\\users\\andrew\\miniforge3\\envs\\langchain\\lib\\site-packages (from zhipuai) (5.3.3)\n",
      "Requirement already satisfied: pyjwt~=2.8.0 in c:\\users\\andrew\\miniforge3\\envs\\langchain\\lib\\site-packages (from zhipuai) (2.8.0)\n",
      "Requirement already satisfied: anyio in c:\\users\\andrew\\miniforge3\\envs\\langchain\\lib\\site-packages (from httpx>=0.23.0->zhipuai) (4.3.0)\n",
      "Requirement already satisfied: certifi in c:\\users\\andrew\\miniforge3\\envs\\langchain\\lib\\site-packages (from httpx>=0.23.0->zhipuai) (2024.2.2)\n",
      "Requirement already satisfied: httpcore==1.* in c:\\users\\andrew\\miniforge3\\envs\\langchain\\lib\\site-packages (from httpx>=0.23.0->zhipuai) (1.0.4)\n",
      "Requirement already satisfied: idna in c:\\users\\andrew\\miniforge3\\envs\\langchain\\lib\\site-packages (from httpx>=0.23.0->zhipuai) (3.6)\n",
      "Requirement already satisfied: sniffio in c:\\users\\andrew\\miniforge3\\envs\\langchain\\lib\\site-packages (from httpx>=0.23.0->zhipuai) (1.3.1)\n",
      "Requirement already satisfied: h11<0.15,>=0.13 in c:\\users\\andrew\\miniforge3\\envs\\langchain\\lib\\site-packages (from httpcore==1.*->httpx>=0.23.0->zhipuai) (0.14.0)\n",
      "Requirement already satisfied: annotated-types>=0.4.0 in c:\\users\\andrew\\miniforge3\\envs\\langchain\\lib\\site-packages (from pydantic>=2.5.2->zhipuai) (0.6.0)\n",
      "Requirement already satisfied: pydantic-core==2.16.3 in c:\\users\\andrew\\miniforge3\\envs\\langchain\\lib\\site-packages (from pydantic>=2.5.2->zhipuai) (2.16.3)\n",
      "Requirement already satisfied: typing-extensions>=4.6.1 in c:\\users\\andrew\\miniforge3\\envs\\langchain\\lib\\site-packages (from pydantic>=2.5.2->zhipuai) (4.10.0)\n",
      "Requirement already satisfied: exceptiongroup>=1.0.2 in c:\\users\\andrew\\appdata\\roaming\\python\\python310\\site-packages (from anyio->httpx>=0.23.0->zhipuai) (1.2.0)\n"
     ]
    }
   ],
   "source": [
    "!pip install -i https://pypi.tuna.tsinghua.edu.cn/simple zhipuai"
   ]
  },
  {
   "cell_type": "code",
   "execution_count": 3,
   "metadata": {},
   "outputs": [],
   "source": [
    "from zhipuai import ZhipuAI\n",
    "from IPython.display import display, Image"
   ]
  },
  {
   "cell_type": "code",
   "execution_count": 4,
   "metadata": {},
   "outputs": [],
   "source": [
    "ZHIPUAI_API_KEY = \"7915b2531ef0ca993089bf8af6925d8a.NFPlI2RahsKuY0K7\""
   ]
  },
  {
   "cell_type": "code",
   "execution_count": 5,
   "metadata": {},
   "outputs": [],
   "source": [
    "client = ZhipuAI(api_key=ZHIPUAI_API_KEY)"
   ]
  },
  {
   "cell_type": "code",
   "execution_count": 6,
   "metadata": {},
   "outputs": [
    {
     "name": "stdout",
     "output_type": "stream",
     "text": [
      "\"智谱AI，智慧编织未来，让创新触手可及！\"\n"
     ]
    }
   ],
   "source": [
    "response = client.chat.completions.create(\n",
    "    model=\"glm-3-turbo\",\n",
    "    messages=[\n",
    "        {\"role\": \"user\", \"content\": \"作为一名营销专家，请为我的产品创作一个吸引人的slogan\"},\n",
    "        {\"role\": \"assistant\", \"content\": \"当然，为了创作一个吸引人的slogan，请告诉我一些关于您产品的信息\"},\n",
    "        {\"role\": \"user\", \"content\": \"智谱AI开放平台\"},\n",
    "        {\"role\": \"assistant\", \"content\": \"智启未来，谱绘无限一智谱AI，让创新触手可及!\"},\n",
    "        {\"role\": \"user\", \"content\": \"创造一个更精准、吸引人的slogan\"}\n",
    "    ],\n",
    ")\n",
    "print(response.choices[0].message.content)"
   ]
  },
  {
   "cell_type": "code",
   "execution_count": 7,
   "metadata": {},
   "outputs": [
    {
     "data": {
      "text/html": [
       "<img src=\"https://sfile.chatglm.cn/testpath/7298e205-53c2-561a-a160-04e8cc4b8a17_0.png\"/>"
      ],
      "text/plain": [
       "<IPython.core.display.Image object>"
      ]
     },
     "metadata": {},
     "output_type": "display_data"
    }
   ],
   "source": [
    "response = client.images.generations(\n",
    "    model=\"cogview-3\",\n",
    "    prompt=\"一只可爱的小猫咪\",\n",
    ")\n",
    "display(Image(url=response.data[0].url))"
   ]
  }
 ],
 "metadata": {
  "kernelspec": {
   "display_name": "Python 3",
   "language": "python",
   "name": "python3"
  },
  "language_info": {
   "codemirror_mode": {
    "name": "ipython",
    "version": 3
   },
   "file_extension": ".py",
   "mimetype": "text/x-python",
   "name": "python",
   "nbconvert_exporter": "python",
   "pygments_lexer": "ipython3",
   "version": "3.10.12"
  }
 },
 "nbformat": 4,
 "nbformat_minor": 2
}
